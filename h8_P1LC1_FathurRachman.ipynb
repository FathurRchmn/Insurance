{
 "cells": [
  {
   "cell_type": "markdown",
   "id": "99ff6734",
   "metadata": {},
   "source": [
    "# Live Code 1 Fase 1"
   ]
  },
  {
   "cell_type": "markdown",
   "id": "c76b0dd9",
   "metadata": {},
   "source": [
    "## Perkenalan"
   ]
  },
  {
   "cell_type": "markdown",
   "id": "6febebdc",
   "metadata": {},
   "source": [
    "- Nama: Fathur Rachman\n",
    "- Batch: 003\n",
    "- FTDS Hactive8"
   ]
  },
  {
   "cell_type": "markdown",
   "id": "77914f4d",
   "metadata": {},
   "source": [
    "## Judul"
   ]
  },
  {
   "cell_type": "markdown",
   "id": "5b7a7068",
   "metadata": {},
   "source": [
    "Pada Live Code 1 Fase 1 akan mengerjakan 2 dataset. Data set pertama adalah menghitung dan memprediksi biaya asuransi yang akan ditanggung oleh pengguna. Untuk dataset kedua merupakan melakukan klasifikasi galaksi berdasarkan bentuk dari galaksi yang berada di data set. Link soal tertera dibawah\n",
    "\n",
    "1. Asuransi : https://www.kaggle.com/mirichoi0218/insurance?select=insurance.csv\n",
    "2. Galaksi : https://raw.githubusercontent.com/fahmimnalfrzki/Dataset/main/GalaxyMorphology.csv"
   ]
  },
  {
   "cell_type": "markdown",
   "id": "a6fd62d7",
   "metadata": {},
   "source": [
    "# Dataset Asuransi"
   ]
  },
  {
   "cell_type": "markdown",
   "id": "0a8880aa",
   "metadata": {},
   "source": [
    "### Import Library"
   ]
  },
  {
   "cell_type": "code",
   "execution_count": 1,
   "id": "654e0ce3",
   "metadata": {},
   "outputs": [],
   "source": [
    "import numpy as np\n",
    "import pandas as pd\n",
    "import seaborn as sns\n",
    "from statsmodels.stats.outliers_influence import variance_inflation_factor\n",
    "import matplotlib.pyplot as plt\n",
    "from sklearn.linear_model import LinearRegression, Ridge, Lasso"
   ]
  },
  {
   "cell_type": "markdown",
   "id": "c9d65c44",
   "metadata": {},
   "source": [
    "### Data Loading"
   ]
  },
  {
   "cell_type": "code",
   "execution_count": 2,
   "id": "b1f03644",
   "metadata": {},
   "outputs": [
    {
     "data": {
      "text/html": [
       "<div>\n",
       "<style scoped>\n",
       "    .dataframe tbody tr th:only-of-type {\n",
       "        vertical-align: middle;\n",
       "    }\n",
       "\n",
       "    .dataframe tbody tr th {\n",
       "        vertical-align: top;\n",
       "    }\n",
       "\n",
       "    .dataframe thead th {\n",
       "        text-align: right;\n",
       "    }\n",
       "</style>\n",
       "<table border=\"1\" class=\"dataframe\">\n",
       "  <thead>\n",
       "    <tr style=\"text-align: right;\">\n",
       "      <th></th>\n",
       "      <th>age</th>\n",
       "      <th>sex</th>\n",
       "      <th>bmi</th>\n",
       "      <th>children</th>\n",
       "      <th>smoker</th>\n",
       "      <th>region</th>\n",
       "      <th>charges</th>\n",
       "    </tr>\n",
       "  </thead>\n",
       "  <tbody>\n",
       "    <tr>\n",
       "      <th>0</th>\n",
       "      <td>19</td>\n",
       "      <td>female</td>\n",
       "      <td>27.900</td>\n",
       "      <td>0</td>\n",
       "      <td>yes</td>\n",
       "      <td>southwest</td>\n",
       "      <td>16884.92400</td>\n",
       "    </tr>\n",
       "    <tr>\n",
       "      <th>1</th>\n",
       "      <td>18</td>\n",
       "      <td>male</td>\n",
       "      <td>33.770</td>\n",
       "      <td>1</td>\n",
       "      <td>no</td>\n",
       "      <td>southeast</td>\n",
       "      <td>1725.55230</td>\n",
       "    </tr>\n",
       "    <tr>\n",
       "      <th>2</th>\n",
       "      <td>28</td>\n",
       "      <td>male</td>\n",
       "      <td>33.000</td>\n",
       "      <td>3</td>\n",
       "      <td>no</td>\n",
       "      <td>southeast</td>\n",
       "      <td>4449.46200</td>\n",
       "    </tr>\n",
       "    <tr>\n",
       "      <th>3</th>\n",
       "      <td>33</td>\n",
       "      <td>male</td>\n",
       "      <td>22.705</td>\n",
       "      <td>0</td>\n",
       "      <td>no</td>\n",
       "      <td>northwest</td>\n",
       "      <td>21984.47061</td>\n",
       "    </tr>\n",
       "    <tr>\n",
       "      <th>4</th>\n",
       "      <td>32</td>\n",
       "      <td>male</td>\n",
       "      <td>28.880</td>\n",
       "      <td>0</td>\n",
       "      <td>no</td>\n",
       "      <td>northwest</td>\n",
       "      <td>3866.85520</td>\n",
       "    </tr>\n",
       "  </tbody>\n",
       "</table>\n",
       "</div>"
      ],
      "text/plain": [
       "   age     sex     bmi  children smoker     region      charges\n",
       "0   19  female  27.900         0    yes  southwest  16884.92400\n",
       "1   18    male  33.770         1     no  southeast   1725.55230\n",
       "2   28    male  33.000         3     no  southeast   4449.46200\n",
       "3   33    male  22.705         0     no  northwest  21984.47061\n",
       "4   32    male  28.880         0     no  northwest   3866.85520"
      ]
     },
     "execution_count": 2,
     "metadata": {},
     "output_type": "execute_result"
    }
   ],
   "source": [
    "data1 = pd.read_csv('insurance.csv')\n",
    "data1.head()"
   ]
  },
  {
   "cell_type": "code",
   "execution_count": 3,
   "id": "b1c3ce84",
   "metadata": {},
   "outputs": [
    {
     "data": {
      "text/plain": [
       "(1338, 7)"
      ]
     },
     "execution_count": 3,
     "metadata": {},
     "output_type": "execute_result"
    }
   ],
   "source": [
    "data1.shape"
   ]
  },
  {
   "cell_type": "code",
   "execution_count": 4,
   "id": "712684c1",
   "metadata": {},
   "outputs": [
    {
     "data": {
      "text/plain": [
       "age           int64\n",
       "sex          object\n",
       "bmi         float64\n",
       "children      int64\n",
       "smoker       object\n",
       "region       object\n",
       "charges     float64\n",
       "dtype: object"
      ]
     },
     "execution_count": 4,
     "metadata": {},
     "output_type": "execute_result"
    }
   ],
   "source": [
    "data1.dtypes"
   ]
  },
  {
   "cell_type": "markdown",
   "id": "26e39aef",
   "metadata": {},
   "source": [
    "Baris kolom dataset diartikan sebagai berikut:\n",
    "\n",
    "- Age: usia penerima manfaat utama\n",
    "\n",
    "- Sex: jenis kelamin kontraktor asuransi, perempuan, laki-laki\n",
    "\n",
    "- BMI: Indeks massa tubuh, memberikan pemahaman tentang tubuh, berat badan yang relatif tinggi atau rendah relatif terhadap tinggi badan, indeks objektif berat badan (kg/m^2) menggunakan rasio tinggi terhadap berat badan, idealnya 18,5 hingga 24,9\n",
    "\n",
    "- Children Jumlah anak yang ditanggung oleh asuransi kesehatan / Jumlah tanggungan\n",
    "\n",
    "- Smoker : pengguna asuransi memiliki kebiasaan merokok atau tidak\n",
    "\n",
    "- Region : daerah perumahan penerima di AS, timur laut, tenggara, barat daya, barat laut.\n",
    "\n",
    "- Charge : Biaya medis individu ditagih oleh asuransi kesehatan"
   ]
  },
  {
   "cell_type": "markdown",
   "id": "ac3e142b",
   "metadata": {},
   "source": [
    "### Data Cleaning"
   ]
  },
  {
   "cell_type": "code",
   "execution_count": 5,
   "id": "eef0bba4",
   "metadata": {},
   "outputs": [
    {
     "data": {
      "text/plain": [
       "age         0\n",
       "sex         0\n",
       "bmi         0\n",
       "children    0\n",
       "smoker      0\n",
       "region      0\n",
       "charges     0\n",
       "dtype: int64"
      ]
     },
     "execution_count": 5,
     "metadata": {},
     "output_type": "execute_result"
    }
   ],
   "source": [
    "data1.isnull().sum()"
   ]
  },
  {
   "cell_type": "markdown",
   "id": "09d79869",
   "metadata": {},
   "source": [
    "Dari melakukan pencarian data diatas, dapat dilihat bahwa seluruh kolom tdak memiliki nilai yang 0. Artinya data dapat di proses lebih lanjut."
   ]
  },
  {
   "cell_type": "markdown",
   "id": "08e8b279",
   "metadata": {},
   "source": [
    "#### Melihat unique value dari data dengan tipe kategorial"
   ]
  },
  {
   "cell_type": "code",
   "execution_count": 6,
   "id": "5c0e6cc8",
   "metadata": {},
   "outputs": [
    {
     "data": {
      "text/plain": [
       "array(['southwest', 'southeast', 'northwest', 'northeast'], dtype=object)"
      ]
     },
     "execution_count": 6,
     "metadata": {},
     "output_type": "execute_result"
    }
   ],
   "source": [
    "data1['region'].unique()"
   ]
  },
  {
   "cell_type": "code",
   "execution_count": 7,
   "id": "d7371b6a",
   "metadata": {},
   "outputs": [
    {
     "data": {
      "text/plain": [
       "array(['female', 'male'], dtype=object)"
      ]
     },
     "execution_count": 7,
     "metadata": {},
     "output_type": "execute_result"
    }
   ],
   "source": [
    "data1['sex'].unique()"
   ]
  },
  {
   "cell_type": "code",
   "execution_count": 8,
   "id": "4463862a",
   "metadata": {},
   "outputs": [
    {
     "data": {
      "text/plain": [
       "array(['yes', 'no'], dtype=object)"
      ]
     },
     "execution_count": 8,
     "metadata": {},
     "output_type": "execute_result"
    }
   ],
   "source": [
    "data1['smoker'].unique()"
   ]
  },
  {
   "cell_type": "markdown",
   "id": "cf7ddeed",
   "metadata": {},
   "source": [
    "#### Melakukan data manipulasi dan mendrop kolom yang tidak akan dipakai"
   ]
  },
  {
   "cell_type": "code",
   "execution_count": 9,
   "id": "7e5b7032",
   "metadata": {},
   "outputs": [
    {
     "data": {
      "text/html": [
       "<div>\n",
       "<style scoped>\n",
       "    .dataframe tbody tr th:only-of-type {\n",
       "        vertical-align: middle;\n",
       "    }\n",
       "\n",
       "    .dataframe tbody tr th {\n",
       "        vertical-align: top;\n",
       "    }\n",
       "\n",
       "    .dataframe thead th {\n",
       "        text-align: right;\n",
       "    }\n",
       "</style>\n",
       "<table border=\"1\" class=\"dataframe\">\n",
       "  <thead>\n",
       "    <tr style=\"text-align: right;\">\n",
       "      <th></th>\n",
       "      <th>age</th>\n",
       "      <th>sex</th>\n",
       "      <th>bmi</th>\n",
       "      <th>children</th>\n",
       "      <th>smoker</th>\n",
       "      <th>charges</th>\n",
       "    </tr>\n",
       "  </thead>\n",
       "  <tbody>\n",
       "    <tr>\n",
       "      <th>0</th>\n",
       "      <td>19</td>\n",
       "      <td>0</td>\n",
       "      <td>27.900</td>\n",
       "      <td>0</td>\n",
       "      <td>1</td>\n",
       "      <td>16884.92400</td>\n",
       "    </tr>\n",
       "    <tr>\n",
       "      <th>1</th>\n",
       "      <td>18</td>\n",
       "      <td>1</td>\n",
       "      <td>33.770</td>\n",
       "      <td>1</td>\n",
       "      <td>0</td>\n",
       "      <td>1725.55230</td>\n",
       "    </tr>\n",
       "    <tr>\n",
       "      <th>2</th>\n",
       "      <td>28</td>\n",
       "      <td>1</td>\n",
       "      <td>33.000</td>\n",
       "      <td>3</td>\n",
       "      <td>0</td>\n",
       "      <td>4449.46200</td>\n",
       "    </tr>\n",
       "    <tr>\n",
       "      <th>3</th>\n",
       "      <td>33</td>\n",
       "      <td>1</td>\n",
       "      <td>22.705</td>\n",
       "      <td>0</td>\n",
       "      <td>0</td>\n",
       "      <td>21984.47061</td>\n",
       "    </tr>\n",
       "    <tr>\n",
       "      <th>4</th>\n",
       "      <td>32</td>\n",
       "      <td>1</td>\n",
       "      <td>28.880</td>\n",
       "      <td>0</td>\n",
       "      <td>0</td>\n",
       "      <td>3866.85520</td>\n",
       "    </tr>\n",
       "    <tr>\n",
       "      <th>...</th>\n",
       "      <td>...</td>\n",
       "      <td>...</td>\n",
       "      <td>...</td>\n",
       "      <td>...</td>\n",
       "      <td>...</td>\n",
       "      <td>...</td>\n",
       "    </tr>\n",
       "    <tr>\n",
       "      <th>1333</th>\n",
       "      <td>50</td>\n",
       "      <td>1</td>\n",
       "      <td>30.970</td>\n",
       "      <td>3</td>\n",
       "      <td>0</td>\n",
       "      <td>10600.54830</td>\n",
       "    </tr>\n",
       "    <tr>\n",
       "      <th>1334</th>\n",
       "      <td>18</td>\n",
       "      <td>0</td>\n",
       "      <td>31.920</td>\n",
       "      <td>0</td>\n",
       "      <td>0</td>\n",
       "      <td>2205.98080</td>\n",
       "    </tr>\n",
       "    <tr>\n",
       "      <th>1335</th>\n",
       "      <td>18</td>\n",
       "      <td>0</td>\n",
       "      <td>36.850</td>\n",
       "      <td>0</td>\n",
       "      <td>0</td>\n",
       "      <td>1629.83350</td>\n",
       "    </tr>\n",
       "    <tr>\n",
       "      <th>1336</th>\n",
       "      <td>21</td>\n",
       "      <td>0</td>\n",
       "      <td>25.800</td>\n",
       "      <td>0</td>\n",
       "      <td>0</td>\n",
       "      <td>2007.94500</td>\n",
       "    </tr>\n",
       "    <tr>\n",
       "      <th>1337</th>\n",
       "      <td>61</td>\n",
       "      <td>0</td>\n",
       "      <td>29.070</td>\n",
       "      <td>0</td>\n",
       "      <td>1</td>\n",
       "      <td>29141.36030</td>\n",
       "    </tr>\n",
       "  </tbody>\n",
       "</table>\n",
       "<p>1338 rows × 6 columns</p>\n",
       "</div>"
      ],
      "text/plain": [
       "      age  sex     bmi  children  smoker      charges\n",
       "0      19    0  27.900         0       1  16884.92400\n",
       "1      18    1  33.770         1       0   1725.55230\n",
       "2      28    1  33.000         3       0   4449.46200\n",
       "3      33    1  22.705         0       0  21984.47061\n",
       "4      32    1  28.880         0       0   3866.85520\n",
       "...   ...  ...     ...       ...     ...          ...\n",
       "1333   50    1  30.970         3       0  10600.54830\n",
       "1334   18    0  31.920         0       0   2205.98080\n",
       "1335   18    0  36.850         0       0   1629.83350\n",
       "1336   21    0  25.800         0       0   2007.94500\n",
       "1337   61    0  29.070         0       1  29141.36030\n",
       "\n",
       "[1338 rows x 6 columns]"
      ]
     },
     "execution_count": 9,
     "metadata": {},
     "output_type": "execute_result"
    }
   ],
   "source": [
    "data1.drop(columns=['region'], inplace=True)\n",
    "data1['sex']=data1.sex.replace({'female':0, 'male':1})\n",
    "data1['smoker']=data1['smoker'].replace({'no':0, 'yes':1})\n",
    "data1"
   ]
  },
  {
   "cell_type": "code",
   "execution_count": 10,
   "id": "244d6ceb",
   "metadata": {},
   "outputs": [
    {
     "data": {
      "text/html": [
       "<div>\n",
       "<style scoped>\n",
       "    .dataframe tbody tr th:only-of-type {\n",
       "        vertical-align: middle;\n",
       "    }\n",
       "\n",
       "    .dataframe tbody tr th {\n",
       "        vertical-align: top;\n",
       "    }\n",
       "\n",
       "    .dataframe thead th {\n",
       "        text-align: right;\n",
       "    }\n",
       "</style>\n",
       "<table border=\"1\" class=\"dataframe\">\n",
       "  <thead>\n",
       "    <tr style=\"text-align: right;\">\n",
       "      <th></th>\n",
       "      <th>age</th>\n",
       "      <th>sex</th>\n",
       "      <th>bmi</th>\n",
       "      <th>children</th>\n",
       "      <th>smoker</th>\n",
       "      <th>charges</th>\n",
       "    </tr>\n",
       "  </thead>\n",
       "  <tbody>\n",
       "    <tr>\n",
       "      <th>count</th>\n",
       "      <td>1338.000000</td>\n",
       "      <td>1338.000000</td>\n",
       "      <td>1338.000000</td>\n",
       "      <td>1338.000000</td>\n",
       "      <td>1338.000000</td>\n",
       "      <td>1338.000000</td>\n",
       "    </tr>\n",
       "    <tr>\n",
       "      <th>mean</th>\n",
       "      <td>39.207025</td>\n",
       "      <td>0.505232</td>\n",
       "      <td>30.663397</td>\n",
       "      <td>1.094918</td>\n",
       "      <td>0.204783</td>\n",
       "      <td>13270.422265</td>\n",
       "    </tr>\n",
       "    <tr>\n",
       "      <th>std</th>\n",
       "      <td>14.049960</td>\n",
       "      <td>0.500160</td>\n",
       "      <td>6.098187</td>\n",
       "      <td>1.205493</td>\n",
       "      <td>0.403694</td>\n",
       "      <td>12110.011237</td>\n",
       "    </tr>\n",
       "    <tr>\n",
       "      <th>min</th>\n",
       "      <td>18.000000</td>\n",
       "      <td>0.000000</td>\n",
       "      <td>15.960000</td>\n",
       "      <td>0.000000</td>\n",
       "      <td>0.000000</td>\n",
       "      <td>1121.873900</td>\n",
       "    </tr>\n",
       "    <tr>\n",
       "      <th>25%</th>\n",
       "      <td>27.000000</td>\n",
       "      <td>0.000000</td>\n",
       "      <td>26.296250</td>\n",
       "      <td>0.000000</td>\n",
       "      <td>0.000000</td>\n",
       "      <td>4740.287150</td>\n",
       "    </tr>\n",
       "    <tr>\n",
       "      <th>50%</th>\n",
       "      <td>39.000000</td>\n",
       "      <td>1.000000</td>\n",
       "      <td>30.400000</td>\n",
       "      <td>1.000000</td>\n",
       "      <td>0.000000</td>\n",
       "      <td>9382.033000</td>\n",
       "    </tr>\n",
       "    <tr>\n",
       "      <th>75%</th>\n",
       "      <td>51.000000</td>\n",
       "      <td>1.000000</td>\n",
       "      <td>34.693750</td>\n",
       "      <td>2.000000</td>\n",
       "      <td>0.000000</td>\n",
       "      <td>16639.912515</td>\n",
       "    </tr>\n",
       "    <tr>\n",
       "      <th>max</th>\n",
       "      <td>64.000000</td>\n",
       "      <td>1.000000</td>\n",
       "      <td>53.130000</td>\n",
       "      <td>5.000000</td>\n",
       "      <td>1.000000</td>\n",
       "      <td>63770.428010</td>\n",
       "    </tr>\n",
       "  </tbody>\n",
       "</table>\n",
       "</div>"
      ],
      "text/plain": [
       "               age          sex          bmi     children       smoker  \\\n",
       "count  1338.000000  1338.000000  1338.000000  1338.000000  1338.000000   \n",
       "mean     39.207025     0.505232    30.663397     1.094918     0.204783   \n",
       "std      14.049960     0.500160     6.098187     1.205493     0.403694   \n",
       "min      18.000000     0.000000    15.960000     0.000000     0.000000   \n",
       "25%      27.000000     0.000000    26.296250     0.000000     0.000000   \n",
       "50%      39.000000     1.000000    30.400000     1.000000     0.000000   \n",
       "75%      51.000000     1.000000    34.693750     2.000000     0.000000   \n",
       "max      64.000000     1.000000    53.130000     5.000000     1.000000   \n",
       "\n",
       "            charges  \n",
       "count   1338.000000  \n",
       "mean   13270.422265  \n",
       "std    12110.011237  \n",
       "min     1121.873900  \n",
       "25%     4740.287150  \n",
       "50%     9382.033000  \n",
       "75%    16639.912515  \n",
       "max    63770.428010  "
      ]
     },
     "execution_count": 10,
     "metadata": {},
     "output_type": "execute_result"
    }
   ],
   "source": [
    "data1.describe()"
   ]
  },
  {
   "cell_type": "code",
   "execution_count": 11,
   "id": "3d0b0000",
   "metadata": {},
   "outputs": [],
   "source": [
    "#Melakukan split data yang akan digunakan dalam eksplorasi data dan di tahap lainnya\n",
    "\n",
    "x = data1[['age', 'sex', 'bmi', 'children', 'smoker']]\n",
    "y = data1[['charges']]"
   ]
  },
  {
   "cell_type": "markdown",
   "id": "b2364c26",
   "metadata": {},
   "source": [
    "### Eksplorasi Data"
   ]
  },
  {
   "cell_type": "code",
   "execution_count": 12,
   "id": "4d8dd7e1",
   "metadata": {},
   "outputs": [
    {
     "name": "stderr",
     "output_type": "stream",
     "text": [
      "C:\\Users\\ASUS\\anaconda3\\lib\\site-packages\\seaborn\\distributions.py:2557: FutureWarning: `distplot` is a deprecated function and will be removed in a future version. Please adapt your code to use either `displot` (a figure-level function with similar flexibility) or `histplot` (an axes-level function for histograms).\n",
      "  warnings.warn(msg, FutureWarning)\n"
     ]
    },
    {
     "data": {
      "text/plain": [
       "<AxesSubplot:xlabel='charges', ylabel='Density'>"
      ]
     },
     "execution_count": 12,
     "metadata": {},
     "output_type": "execute_result"
    },
    {
     "data": {
      "image/png": "[encoded data removed]",
      "text/plain": [
       "<Figure size 432x288 with 1 Axes>"
      ]
     },
     "metadata": {
      "needs_background": "light"
     },
     "output_type": "display_data"
    }
   ],
   "source": [
    "sns.distplot(data1['charges'])"
   ]
  },
  {
   "cell_type": "markdown",
   "id": "cff6e2c7",
   "metadata": {},
   "source": [
    "Persebaran biaya (target) yang dikeluarkan oleh pengguna asuransi memiliki persebaran yang condong mendekati titik 0. Artinya variabel 'charges' bersifat skewness positif. Nilai dari dean dan median akan lebih besar dari modus."
   ]
  },
  {
   "cell_type": "code",
   "execution_count": 13,
   "id": "5e6cba33",
   "metadata": {},
   "outputs": [
    {
     "data": {
      "text/plain": [
       "<AxesSubplot:>"
      ]
     },
     "execution_count": 13,
     "metadata": {},
     "output_type": "execute_result"
    },
    {
     "data": {
      "image/png": "[encoded data removed]",
      "text/plain": [
       "<Figure size 1152x576 with 1 Axes>"
      ]
     },
     "metadata": {
      "needs_background": "light"
     },
     "output_type": "display_data"
    }
   ],
   "source": [
    "x.boxplot(figsize=(16,8))"
   ]
  },
  {
   "cell_type": "markdown",
   "id": "3a134c60",
   "metadata": {},
   "source": [
    "Persebaran nilai data features (x) dapat terlihat dari boxplot diatas. Peneliti melakukan cara ini untuk melihat dan melakukan suatu perlakuan terhadap nilai data yang memiliki outlier. Dari hasil boxplot, dapat terlihat bahwa bmi memiliki nilai outlier. Sehingga outlier tersebut harus di drop."
   ]
  },
  {
   "cell_type": "code",
   "execution_count": 14,
   "id": "f7ea0ee8",
   "metadata": {},
   "outputs": [
    {
     "data": {
      "text/plain": [
       "<AxesSubplot:>"
      ]
     },
     "execution_count": 14,
     "metadata": {},
     "output_type": "execute_result"
    },
    {
     "data": {
      "image/png": "[encoded data removed]",
      "text/plain": [
       "<Figure size 1152x576 with 1 Axes>"
      ]
     },
     "metadata": {
      "needs_background": "light"
     },
     "output_type": "display_data"
    }
   ],
   "source": [
    "x[x['bmi']<47].boxplot(figsize=(16,8))"
   ]
  },
  {
   "cell_type": "code",
   "execution_count": 15,
   "id": "da02f38b",
   "metadata": {},
   "outputs": [
    {
     "data": {
      "text/plain": [
       "<AxesSubplot:>"
      ]
     },
     "execution_count": 15,
     "metadata": {},
     "output_type": "execute_result"
    },
    {
     "data": {
      "image/png": "[encoded data removed]",
      "text/plain": [
       "<Figure size 432x288 with 2 Axes>"
      ]
     },
     "metadata": {
      "needs_background": "light"
     },
     "output_type": "display_data"
    }
   ],
   "source": [
    "Corr=data1.corr()\n",
    "\n",
    "sns.heatmap(Corr)"
   ]
  },
  {
   "cell_type": "markdown",
   "id": "c85f9d54",
   "metadata": {},
   "source": [
    "Dari uji korelasi didapatkan bahwa nilai dari biaya asuransi memiliki korelasi yang sangat erat dengan status apakah pengguna jasa asuransi memiliki kebiasaan merokok atau tidak. Namun, peneliti merasa bahwa features (x) yang dipilih memiliki korelasi yang dengan biaya asuransi. Oleh sebab itu akan dilakukan uji VIF untuk melakukan validasi."
   ]
  },
  {
   "cell_type": "code",
   "execution_count": 16,
   "id": "e05cb8c4",
   "metadata": {},
   "outputs": [
    {
     "name": "stdout",
     "output_type": "stream",
     "text": [
      "    feature       VIF\n",
      "0       age  7.545377\n",
      "1       sex  2.000794\n",
      "2       bmi  8.748157\n",
      "3  children  1.799703\n",
      "4    smoker  1.256793\n"
     ]
    }
   ],
   "source": [
    "# VIF dataframe\n",
    "vif_data = pd.DataFrame()\n",
    "vif_data[\"feature\"] = x.columns\n",
    "  \n",
    "# calculating VIF for each feature\n",
    "vif_data[\"VIF\"] = [variance_inflation_factor(x.values, i)\n",
    "                          for i in range(len(x.columns))]\n",
    "  \n",
    "print(vif_data)"
   ]
  },
  {
   "cell_type": "code",
   "execution_count": 17,
   "id": "92ac1585",
   "metadata": {},
   "outputs": [
    {
     "name": "stdout",
     "output_type": "stream",
     "text": [
      "    feature       VIF\n",
      "0       age  2.453250\n",
      "1       sex  1.839905\n",
      "2  children  1.729430\n",
      "3    smoker  1.237158\n"
     ]
    }
   ],
   "source": [
    "x1 = x.drop(columns='bmi')\n",
    "vif_data = pd.DataFrame()\n",
    "vif_data[\"feature\"] = x1.columns\n",
    "  \n",
    "# calculating VIF for each feature\n",
    "vif_data[\"VIF\"] = [variance_inflation_factor(x1.values, i)\n",
    "                          for i in range(len(x1.columns))]\n",
    "  \n",
    "print(vif_data)"
   ]
  },
  {
   "cell_type": "markdown",
   "id": "8a45d66d",
   "metadata": {},
   "source": [
    "Setelah melakukan drop terhadap kolom feature 'bmi', dapat terlihat nilai VIF dari masing-masing features <5. Hal ini dapat diartikan bahwa nilai-nilai features yang sudah dipilih memiliki nilai korelasi yang kuat dengan target (charges)."
   ]
  },
  {
   "cell_type": "markdown",
   "id": "73f76d18",
   "metadata": {},
   "source": [
    "### Data Preprocessing"
   ]
  },
  {
   "cell_type": "markdown",
   "id": "d6bbb225",
   "metadata": {},
   "source": [
    "Setelah melakukan data eksplorasi, maka peneliti mendapatkan kesimpulan yang nantiny akan digunakan untuk melakukan data preprocessing, diantaranya:\n",
    "\n",
    "- Menyiapkan features (x) untuk pembuatan model (dengan membuang bmi)\n",
    "- Menyiapkan target (y) (charges)\n",
    "- Melakukan transformasi log pada variabel target untuk pelatihan model\n",
    "\n",
    "#catatan: encoding terhadap variabel kategorial sudah dilakukan pada proses pada line 9"
   ]
  },
  {
   "cell_type": "markdown",
   "id": "0af5bffc",
   "metadata": {},
   "source": [
    "##### Menyiapkan variabel features dan target"
   ]
  },
  {
   "cell_type": "code",
   "execution_count": 18,
   "id": "b8d89692",
   "metadata": {},
   "outputs": [],
   "source": [
    "#data train\n",
    "\n",
    "x_train = x1\n",
    "y_train = y"
   ]
  },
  {
   "cell_type": "code",
   "execution_count": 19,
   "id": "c15fcac3",
   "metadata": {},
   "outputs": [],
   "source": [
    "#data test\n",
    "\n",
    "x_test = x1\n",
    "y_test = y"
   ]
  },
  {
   "cell_type": "markdown",
   "id": "40dfd7ab",
   "metadata": {},
   "source": [
    "##### Melakukan transformasi Log pada Target (Y) dan menyimpan pada variabel baru"
   ]
  },
  {
   "cell_type": "code",
   "execution_count": 20,
   "id": "fc50768b",
   "metadata": {},
   "outputs": [
    {
     "data": {
      "image/png": "[encoded data removed]",
      "text/plain": [
       "<Figure size 432x288 with 1 Axes>"
      ]
     },
     "metadata": {
      "needs_background": "light"
     },
     "output_type": "display_data"
    }
   ],
   "source": [
    "plt.hist(y_train)\n",
    "plt.title('Persebaran Charges Sebelum Transformasi Log')\n",
    "plt.show()"
   ]
  },
  {
   "cell_type": "code",
   "execution_count": 21,
   "id": "f4bd9525",
   "metadata": {},
   "outputs": [],
   "source": [
    "y_log = np.log(y_train)"
   ]
  },
  {
   "cell_type": "code",
   "execution_count": 22,
   "id": "afd7e8d5",
   "metadata": {},
   "outputs": [
    {
     "data": {
      "image/png": "[encoded data removed]",
      "text/plain": [
       "<Figure size 432x288 with 1 Axes>"
      ]
     },
     "metadata": {
      "needs_background": "light"
     },
     "output_type": "display_data"
    }
   ],
   "source": [
    "plt.hist(y_log)\n",
    "plt.title('Persebaran Charges Setelah Transformasi Log')\n",
    "plt.show()"
   ]
  },
  {
   "cell_type": "markdown",
   "id": "b77d9baa",
   "metadata": {},
   "source": [
    "### Pendefinisian Model"
   ]
  },
  {
   "cell_type": "markdown",
   "id": "7b6fc804",
   "metadata": {},
   "source": [
    "Uji model kali ini akan dilakukan dengan 3 model linear, diantaranya: Linear Regression, Rigde Regession, dan Lasso Regression"
   ]
  },
  {
   "cell_type": "code",
   "execution_count": 23,
   "id": "f6255ea5",
   "metadata": {},
   "outputs": [],
   "source": [
    "#Model Linear Regression\n",
    "\n",
    "LRG = LinearRegression()\n",
    "\n",
    "#Model Ridge Regression\n",
    "\n",
    "RRG = Ridge(alpha=0.1)\n",
    "\n",
    "#Model Lasso\n",
    "\n",
    "LLG = Lasso(alpha=0.1)"
   ]
  },
  {
   "cell_type": "markdown",
   "id": "db5eb54e",
   "metadata": {},
   "source": [
    "### Pelatihan Model "
   ]
  },
  {
   "cell_type": "code",
   "execution_count": 24,
   "id": "8e91b8f6",
   "metadata": {},
   "outputs": [
    {
     "data": {
      "text/plain": [
       "Lasso(alpha=0.1)"
      ]
     },
     "execution_count": 24,
     "metadata": {},
     "output_type": "execute_result"
    }
   ],
   "source": [
    "#Linear Regression\n",
    "\n",
    "LRG.fit(x_train, y_log)\n",
    "\n",
    "#Rigde\n",
    "\n",
    "RRG.fit(x_train, y_log)\n",
    "\n",
    "#Lasso\n",
    "\n",
    "LLG.fit(x_train, y_log)"
   ]
  },
  {
   "cell_type": "markdown",
   "id": "178b149b",
   "metadata": {},
   "source": [
    "### Evaluasi Model "
   ]
  },
  {
   "cell_type": "code",
   "execution_count": 25,
   "id": "a8788fa0",
   "metadata": {},
   "outputs": [],
   "source": [
    "# Evaluasi hasil prediksi model menggunakan data train\n",
    "\n",
    "from sklearn.metrics import mean_absolute_error, mean_squared_error\n",
    "\n",
    "def eval_datatrain(model, judul):\n",
    "    y_train_predict = model.predict(x_train)\n",
    "    \n",
    "    print('Evaluasi Model %s Menggunakan Data Train\\n' %judul)\n",
    "    print('MSE: {:.2f}' .format(mean_squared_error(y_train, np.exp(y_train_predict))))\n",
    "    print('RMSE: {:.2f}' .format(np.sqrt(mean_squared_error(y_train, np.exp(y_train_predict)))))\n",
    "    print('MAE: {:.2f}' .format(mean_absolute_error(y_train, np.exp(y_train_predict))))"
   ]
  },
  {
   "cell_type": "code",
   "execution_count": 26,
   "id": "1227cbca",
   "metadata": {},
   "outputs": [
    {
     "name": "stdout",
     "output_type": "stream",
     "text": [
      "Evaluasi Model Linear Regression Menggunakan Data Train\n",
      "\n",
      "MSE: 76464539.58\n",
      "RMSE: 8744.40\n",
      "MAE: 4291.02\n"
     ]
    }
   ],
   "source": [
    "eval_datatrain(LRG, 'Linear Regression')"
   ]
  },
  {
   "cell_type": "code",
   "execution_count": 27,
   "id": "a1de25a3",
   "metadata": {},
   "outputs": [
    {
     "name": "stdout",
     "output_type": "stream",
     "text": [
      "Evaluasi Model Rigde Regression Menggunakan Data Train\n",
      "\n",
      "MSE: 76392912.92\n",
      "RMSE: 8740.30\n",
      "MAE: 4289.89\n"
     ]
    }
   ],
   "source": [
    "eval_datatrain(RRG, 'Rigde Regression')"
   ]
  },
  {
   "cell_type": "code",
   "execution_count": 28,
   "id": "feb24bf3",
   "metadata": {},
   "outputs": [
    {
     "name": "stdout",
     "output_type": "stream",
     "text": [
      "Evaluasi Model Lasso Regression Menggunakan Data Train\n",
      "\n",
      "MSE: 73767432.48\n",
      "RMSE: 8588.80\n",
      "MAE: 4720.90\n"
     ]
    }
   ],
   "source": [
    "eval_datatrain(LLG, 'Lasso Regression')"
   ]
  },
  {
   "cell_type": "code",
   "execution_count": 29,
   "id": "43b55984",
   "metadata": {},
   "outputs": [],
   "source": [
    "# Evaluasi hasil prediksi model menggunakan data test\n",
    "def eval_datatest(model, judul):\n",
    "    y_test_predict = model.predict(x_test)\n",
    "\n",
    "    print('Evaluasi Model %s Menggunakan Data Test\\n' %judul)\n",
    "    print('MSE: {:.2f}' .format(mean_squared_error(y_test, np.exp(y_test_predict))))\n",
    "    print('RMSE: {:.2f}' .format(np.sqrt(mean_squared_error(y_test, np.exp(y_test_predict)))))\n",
    "    print('MAE: {:.2f}' .format(mean_absolute_error(y_test, np.exp(y_test_predict))))"
   ]
  },
  {
   "cell_type": "code",
   "execution_count": 30,
   "id": "c6159383",
   "metadata": {},
   "outputs": [
    {
     "name": "stdout",
     "output_type": "stream",
     "text": [
      "Evaluasi Model Linear Regression Menggunakan Data Test\n",
      "\n",
      "MSE: 76464539.58\n",
      "RMSE: 8744.40\n",
      "MAE: 4291.02\n"
     ]
    }
   ],
   "source": [
    "eval_datatest(LRG, 'Linear Regression')"
   ]
  },
  {
   "cell_type": "code",
   "execution_count": 31,
   "id": "37390f4a",
   "metadata": {},
   "outputs": [
    {
     "name": "stdout",
     "output_type": "stream",
     "text": [
      "Evaluasi Model Rigde Regression Menggunakan Data Test\n",
      "\n",
      "MSE: 76392912.92\n",
      "RMSE: 8740.30\n",
      "MAE: 4289.89\n"
     ]
    }
   ],
   "source": [
    "eval_datatest(RRG, 'Rigde Regression')"
   ]
  },
  {
   "cell_type": "code",
   "execution_count": 32,
   "id": "37fa3747",
   "metadata": {},
   "outputs": [
    {
     "name": "stdout",
     "output_type": "stream",
     "text": [
      "Evaluasi Model Lasso Regression Menggunakan Data Test\n",
      "\n",
      "MSE: 73767432.48\n",
      "RMSE: 8588.80\n",
      "MAE: 4720.90\n"
     ]
    }
   ],
   "source": [
    "eval_datatest(LLG, 'Lasso Regression')"
   ]
  },
  {
   "cell_type": "markdown",
   "id": "a04ab814",
   "metadata": {},
   "source": [
    "Dari uji train dan uji test dari ketiga tipe model pengujian, didapatkan kesimpulan:\n",
    "\n",
    "1. Pengujian pada train test dan data test dari ke3 pengujian (linear, rigde, dan lasso) memiliki nilai yang sama\n",
    "2. Nilai Error pada data train dan data test ditemukan pada Lasso Regression dengan nilai RMSE : 8588.80\n",
    "\n",
    "Maka diputuskan model yang digunakan adalah Lasso Regresson dengan nilai error sebesar 8588.8"
   ]
  },
  {
   "cell_type": "markdown",
   "id": "95f9bb2d",
   "metadata": {},
   "source": [
    "### Model Inference"
   ]
  },
  {
   "cell_type": "markdown",
   "id": "547788ef",
   "metadata": {},
   "source": [
    "Pada saat ini dilakukan pengujian dan memperkirakan berapakah harga yang harus nasabah arusansi bayar untuk mendapatkan pelayanan asuransi. Berikut komponen variabel:\n",
    "\n",
    "Jika merokok\n",
    "- Usia (age) : 28 tahun\n",
    "- Jenis kelamin (sex) : 1 (pria)\n",
    "- Punya berapa anak (children) : 2\n",
    "- perokok atau tidak (smoker) : 1 (ya)\n",
    "\n",
    "Jika tidak merokok\n",
    "- Usia (age) : 28 tahun\n",
    "- Jenis kelamin (sex) : 1 (pria)\n",
    "- Punya berapa anak (children) : 2\n",
    "- perokok atau tidak (smoker) : 0 (tidak)\n",
    "\n",
    "Jika tidak merokok dan punya banyak anak (5)\n",
    "- Usia (age) : 28 tahun\n",
    "- Jenis kelamin (sex) : 1 (pria)\n",
    "- Punya berapa anak (children) : 5\n",
    "- perokok atau tidak (smoker) : 0 (tidak)"
   ]
  },
  {
   "cell_type": "code",
   "execution_count": 33,
   "id": "d4b8a289",
   "metadata": {},
   "outputs": [
    {
     "data": {
      "text/plain": [
       "array([13133.8472848])"
      ]
     },
     "execution_count": 33,
     "metadata": {},
     "output_type": "execute_result"
    }
   ],
   "source": [
    "#Prediksi biaya yang harus dikeluarkan (jika merokok)\n",
    "\n",
    "np.exp(LLG.predict([[28, 1, 2, 1]]))"
   ]
  },
  {
   "cell_type": "code",
   "execution_count": 34,
   "id": "561531b2",
   "metadata": {},
   "outputs": [
    {
     "data": {
      "text/plain": [
       "array([5176.20606427])"
      ]
     },
     "execution_count": 34,
     "metadata": {},
     "output_type": "execute_result"
    }
   ],
   "source": [
    "#Prediksi biaya yang harus dikeluarkan (jika tidak merokok)\n",
    "\n",
    "np.exp(LLG.predict([[28, 1, 2, 0]]))"
   ]
  },
  {
   "cell_type": "code",
   "execution_count": 35,
   "id": "e992684d",
   "metadata": {},
   "outputs": [
    {
     "data": {
      "text/plain": [
       "array([5743.93143513])"
      ]
     },
     "execution_count": 35,
     "metadata": {},
     "output_type": "execute_result"
    }
   ],
   "source": [
    "#Prediksi biaya yang harus dikeluarkan (jika tidak merokok tapi punya banyak anak)\n",
    "\n",
    "np.exp(LLG.predict([[28, 1, 5, 0]]))"
   ]
  },
  {
   "cell_type": "markdown",
   "id": "9e67ee6e",
   "metadata": {},
   "source": [
    "Berdasarkan perhitungan model, diprediksi harga yang harus dikeluarkan oleh nasabah asuransi sebesar 13,133.85 USD dengan status perokok. Namun lain halnya jika tidak merokok hanya mengeluarkan biaya sebesar 5176.21 USD dan tidak merokok tetapi punya 5 anak tidak jauh berbeda dan hanya dikenakan biaya sebesar 5743.93 USD"
   ]
  },
  {
   "cell_type": "markdown",
   "id": "b418e210",
   "metadata": {},
   "source": [
    "### Kesimpulan"
   ]
  },
  {
   "cell_type": "markdown",
   "id": "5c67ad62",
   "metadata": {},
   "source": [
    "Variabel features (x) memiliki korelasi sangat erat dengan variabel target (y) adalah status perokok. Sementara sisanya tidak memiliki relasi yang kuat dengan harga seperti usia, jenis kelamin, memiliki anak berapa. Dari hasil uji prediksi dapat terlihat bahwa orang yang memiliki status perokok akan dikenakan biaya yang sangat mahal bahkan hingga lebih dari 2 kali lipat dibandingkan dengan orang yang tidak merokok dan tidak merokok namun memiliki banyak anak.\n",
    "\n",
    "Kesimpulannya adalah: jika mau menggunakan jasa asuransi maka terapkan pola hidup sehat dan BERHENTI MEROKOK! KARENA MEROKOK MEMBUNUHMU DAN BIKIN MISKIN!"
   ]
  },
  {
   "cell_type": "markdown",
   "id": "ea90379d",
   "metadata": {},
   "source": [
    "# Dataset Galaksi"
   ]
  },
  {
   "cell_type": "code",
   "execution_count": 37,
   "id": "6974b585",
   "metadata": {},
   "outputs": [
    {
     "data": {
      "text/html": [
       "<div>\n",
       "<style scoped>\n",
       "    .dataframe tbody tr th:only-of-type {\n",
       "        vertical-align: middle;\n",
       "    }\n",
       "\n",
       "    .dataframe tbody tr th {\n",
       "        vertical-align: top;\n",
       "    }\n",
       "\n",
       "    .dataframe thead th {\n",
       "        text-align: right;\n",
       "    }\n",
       "</style>\n",
       "<table border=\"1\" class=\"dataframe\">\n",
       "  <thead>\n",
       "    <tr style=\"text-align: right;\">\n",
       "      <th></th>\n",
       "      <th>Unnamed: 0</th>\n",
       "      <th>TType</th>\n",
       "      <th>K</th>\n",
       "      <th>C</th>\n",
       "      <th>A</th>\n",
       "      <th>S</th>\n",
       "      <th>G2</th>\n",
       "      <th>H</th>\n",
       "      <th>CNN2classes1stClass</th>\n",
       "    </tr>\n",
       "  </thead>\n",
       "  <tbody>\n",
       "    <tr>\n",
       "      <th>0</th>\n",
       "      <td>0</td>\n",
       "      <td>1.854829</td>\n",
       "      <td>6.560199</td>\n",
       "      <td>0.357051</td>\n",
       "      <td>0.932151</td>\n",
       "      <td>0.850992</td>\n",
       "      <td>1.588183</td>\n",
       "      <td>0.697214</td>\n",
       "      <td>1</td>\n",
       "    </tr>\n",
       "    <tr>\n",
       "      <th>1</th>\n",
       "      <td>1</td>\n",
       "      <td>4.815538</td>\n",
       "      <td>25.950829</td>\n",
       "      <td>0.313292</td>\n",
       "      <td>0.610999</td>\n",
       "      <td>0.723122</td>\n",
       "      <td>1.533653</td>\n",
       "      <td>0.719412</td>\n",
       "      <td>1</td>\n",
       "    </tr>\n",
       "    <tr>\n",
       "      <th>2</th>\n",
       "      <td>2</td>\n",
       "      <td>0.678056</td>\n",
       "      <td>6.867416</td>\n",
       "      <td>0.408286</td>\n",
       "      <td>0.881524</td>\n",
       "      <td>0.813231</td>\n",
       "      <td>1.743747</td>\n",
       "      <td>0.750872</td>\n",
       "      <td>1</td>\n",
       "    </tr>\n",
       "    <tr>\n",
       "      <th>3</th>\n",
       "      <td>3</td>\n",
       "      <td>-0.547708</td>\n",
       "      <td>11.877941</td>\n",
       "      <td>-9999.999999</td>\n",
       "      <td>0.838779</td>\n",
       "      <td>0.816965</td>\n",
       "      <td>1.672529</td>\n",
       "      <td>0.771995</td>\n",
       "      <td>1</td>\n",
       "    </tr>\n",
       "    <tr>\n",
       "      <th>4</th>\n",
       "      <td>4</td>\n",
       "      <td>2.028543</td>\n",
       "      <td>20.458965</td>\n",
       "      <td>0.446453</td>\n",
       "      <td>0.839216</td>\n",
       "      <td>0.801140</td>\n",
       "      <td>1.107665</td>\n",
       "      <td>0.610453</td>\n",
       "      <td>1</td>\n",
       "    </tr>\n",
       "  </tbody>\n",
       "</table>\n",
       "</div>"
      ],
      "text/plain": [
       "   Unnamed: 0     TType          K            C         A         S        G2  \\\n",
       "0           0  1.854829   6.560199     0.357051  0.932151  0.850992  1.588183   \n",
       "1           1  4.815538  25.950829     0.313292  0.610999  0.723122  1.533653   \n",
       "2           2  0.678056   6.867416     0.408286  0.881524  0.813231  1.743747   \n",
       "3           3 -0.547708  11.877941 -9999.999999  0.838779  0.816965  1.672529   \n",
       "4           4  2.028543  20.458965     0.446453  0.839216  0.801140  1.107665   \n",
       "\n",
       "          H  CNN2classes1stClass  \n",
       "0  0.697214                    1  \n",
       "1  0.719412                    1  \n",
       "2  0.750872                    1  \n",
       "3  0.771995                    1  \n",
       "4  0.610453                    1  "
      ]
     },
     "execution_count": 37,
     "metadata": {},
     "output_type": "execute_result"
    }
   ],
   "source": [
    "data2 = pd.read_csv('https://raw.githubusercontent.com/fahmimnalfrzki/Dataset/main/GalaxyMorphology.csv')\n",
    "data2.head()"
   ]
  },
  {
   "cell_type": "code",
   "execution_count": 39,
   "id": "d1c56bd0",
   "metadata": {},
   "outputs": [
    {
     "name": "stdout",
     "output_type": "stream",
     "text": [
      "<class 'pandas.core.frame.DataFrame'>\n",
      "RangeIndex: 20000 entries, 0 to 19999\n",
      "Data columns (total 9 columns):\n",
      " #   Column               Non-Null Count  Dtype  \n",
      "---  ------               --------------  -----  \n",
      " 0   Unnamed: 0           20000 non-null  int64  \n",
      " 1   TType                20000 non-null  float64\n",
      " 2   K                    20000 non-null  float64\n",
      " 3   C                    20000 non-null  float64\n",
      " 4   A                    20000 non-null  float64\n",
      " 5   S                    20000 non-null  float64\n",
      " 6   G2                   20000 non-null  float64\n",
      " 7   H                    20000 non-null  float64\n",
      " 8   CNN2classes1stClass  20000 non-null  int64  \n",
      "dtypes: float64(7), int64(2)\n",
      "memory usage: 1.4 MB\n"
     ]
    }
   ],
   "source": [
    "data2.info()"
   ]
  },
  {
   "cell_type": "markdown",
   "id": "22a8ae61",
   "metadata": {},
   "source": [
    "### Data Cleaning"
   ]
  },
  {
   "cell_type": "code",
   "execution_count": 41,
   "id": "cd314d95",
   "metadata": {},
   "outputs": [
    {
     "data": {
      "text/plain": [
       "Unnamed: 0             0\n",
       "TType                  0\n",
       "K                      0\n",
       "C                      0\n",
       "A                      0\n",
       "S                      0\n",
       "G2                     0\n",
       "H                      0\n",
       "CNN2classes1stClass    0\n",
       "dtype: int64"
      ]
     },
     "execution_count": 41,
     "metadata": {},
     "output_type": "execute_result"
    }
   ],
   "source": [
    "data2.isnull().sum()"
   ]
  },
  {
   "cell_type": "markdown",
   "id": "67a55982",
   "metadata": {},
   "source": [
    "Hanya ambil kolom C,A,S,G2,dan H untuk dijadikan feature"
   ]
  },
  {
   "cell_type": "code",
   "execution_count": 42,
   "id": "fb5dd960",
   "metadata": {},
   "outputs": [],
   "source": [
    "x = data2[['C', 'A', 'S', 'G2', 'H']]\n",
    "y = data2[['CNN2classes1stClass']]"
   ]
  },
  {
   "cell_type": "code",
   "execution_count": 46,
   "id": "8b715e25",
   "metadata": {},
   "outputs": [
    {
     "data": {
      "text/html": [
       "<div>\n",
       "<style scoped>\n",
       "    .dataframe tbody tr th:only-of-type {\n",
       "        vertical-align: middle;\n",
       "    }\n",
       "\n",
       "    .dataframe tbody tr th {\n",
       "        vertical-align: top;\n",
       "    }\n",
       "\n",
       "    .dataframe thead th {\n",
       "        text-align: right;\n",
       "    }\n",
       "</style>\n",
       "<table border=\"1\" class=\"dataframe\">\n",
       "  <thead>\n",
       "    <tr style=\"text-align: right;\">\n",
       "      <th></th>\n",
       "      <th>C</th>\n",
       "      <th>A</th>\n",
       "      <th>S</th>\n",
       "      <th>G2</th>\n",
       "      <th>H</th>\n",
       "    </tr>\n",
       "  </thead>\n",
       "  <tbody>\n",
       "    <tr>\n",
       "      <th>0</th>\n",
       "      <td>0.357051</td>\n",
       "      <td>0.932151</td>\n",
       "      <td>0.850992</td>\n",
       "      <td>1.588183</td>\n",
       "      <td>0.697214</td>\n",
       "    </tr>\n",
       "    <tr>\n",
       "      <th>1</th>\n",
       "      <td>0.313292</td>\n",
       "      <td>0.610999</td>\n",
       "      <td>0.723122</td>\n",
       "      <td>1.533653</td>\n",
       "      <td>0.719412</td>\n",
       "    </tr>\n",
       "    <tr>\n",
       "      <th>2</th>\n",
       "      <td>0.408286</td>\n",
       "      <td>0.881524</td>\n",
       "      <td>0.813231</td>\n",
       "      <td>1.743747</td>\n",
       "      <td>0.750872</td>\n",
       "    </tr>\n",
       "    <tr>\n",
       "      <th>3</th>\n",
       "      <td>-9999.999999</td>\n",
       "      <td>0.838779</td>\n",
       "      <td>0.816965</td>\n",
       "      <td>1.672529</td>\n",
       "      <td>0.771995</td>\n",
       "    </tr>\n",
       "    <tr>\n",
       "      <th>4</th>\n",
       "      <td>0.446453</td>\n",
       "      <td>0.839216</td>\n",
       "      <td>0.801140</td>\n",
       "      <td>1.107665</td>\n",
       "      <td>0.610453</td>\n",
       "    </tr>\n",
       "  </tbody>\n",
       "</table>\n",
       "</div>"
      ],
      "text/plain": [
       "             C         A         S        G2         H\n",
       "0     0.357051  0.932151  0.850992  1.588183  0.697214\n",
       "1     0.313292  0.610999  0.723122  1.533653  0.719412\n",
       "2     0.408286  0.881524  0.813231  1.743747  0.750872\n",
       "3 -9999.999999  0.838779  0.816965  1.672529  0.771995\n",
       "4     0.446453  0.839216  0.801140  1.107665  0.610453"
      ]
     },
     "execution_count": 46,
     "metadata": {},
     "output_type": "execute_result"
    }
   ],
   "source": [
    "x.head()"
   ]
  },
  {
   "cell_type": "code",
   "execution_count": 47,
   "id": "c47302ef",
   "metadata": {},
   "outputs": [
    {
     "data": {
      "text/html": [
       "<div>\n",
       "<style scoped>\n",
       "    .dataframe tbody tr th:only-of-type {\n",
       "        vertical-align: middle;\n",
       "    }\n",
       "\n",
       "    .dataframe tbody tr th {\n",
       "        vertical-align: top;\n",
       "    }\n",
       "\n",
       "    .dataframe thead th {\n",
       "        text-align: right;\n",
       "    }\n",
       "</style>\n",
       "<table border=\"1\" class=\"dataframe\">\n",
       "  <thead>\n",
       "    <tr style=\"text-align: right;\">\n",
       "      <th></th>\n",
       "      <th>CNN2classes1stClass</th>\n",
       "    </tr>\n",
       "  </thead>\n",
       "  <tbody>\n",
       "    <tr>\n",
       "      <th>0</th>\n",
       "      <td>1</td>\n",
       "    </tr>\n",
       "    <tr>\n",
       "      <th>1</th>\n",
       "      <td>1</td>\n",
       "    </tr>\n",
       "    <tr>\n",
       "      <th>2</th>\n",
       "      <td>1</td>\n",
       "    </tr>\n",
       "    <tr>\n",
       "      <th>3</th>\n",
       "      <td>1</td>\n",
       "    </tr>\n",
       "    <tr>\n",
       "      <th>4</th>\n",
       "      <td>1</td>\n",
       "    </tr>\n",
       "  </tbody>\n",
       "</table>\n",
       "</div>"
      ],
      "text/plain": [
       "   CNN2classes1stClass\n",
       "0                    1\n",
       "1                    1\n",
       "2                    1\n",
       "3                    1\n",
       "4                    1"
      ]
     },
     "execution_count": 47,
     "metadata": {},
     "output_type": "execute_result"
    }
   ],
   "source": [
    "y.head()"
   ]
  },
  {
   "cell_type": "markdown",
   "id": "18e3f210",
   "metadata": {},
   "source": [
    "### Data Preprocessing"
   ]
  },
  {
   "cell_type": "markdown",
   "id": "8f9d9a40",
   "metadata": {},
   "source": [
    "##### Menyiapkan variabel features dan target"
   ]
  },
  {
   "cell_type": "code",
   "execution_count": 48,
   "id": "7ef25ead",
   "metadata": {},
   "outputs": [],
   "source": [
    "#data train\n",
    "\n",
    "x_train = x\n",
    "y_train = y"
   ]
  },
  {
   "cell_type": "code",
   "execution_count": 50,
   "id": "0c3cf738",
   "metadata": {},
   "outputs": [],
   "source": [
    "#data test\n",
    "\n",
    "x_test = x\n",
    "y_test = y"
   ]
  },
  {
   "cell_type": "markdown",
   "id": "41f679d3",
   "metadata": {},
   "source": [
    "### Confusion matrix, Classification, Accuracy Score"
   ]
  },
  {
   "cell_type": "code",
   "execution_count": 53,
   "id": "f2c6c73f",
   "metadata": {},
   "outputs": [
    {
     "name": "stderr",
     "output_type": "stream",
     "text": [
      "C:\\Users\\ASUS\\anaconda3\\lib\\site-packages\\sklearn\\utils\\validation.py:63: DataConversionWarning: A column-vector y was passed when a 1d array was expected. Please change the shape of y to (n_samples, ), for example using ravel().\n",
      "  return f(*args, **kwargs)\n"
     ]
    },
    {
     "name": "stdout",
     "output_type": "stream",
     "text": [
      "[[  629  3227]\n",
      " [  595 15549]]\n",
      "              precision    recall  f1-score   support\n",
      "\n",
      "           0       0.51      0.16      0.25      3856\n",
      "           1       0.83      0.96      0.89     16144\n",
      "\n",
      "    accuracy                           0.81     20000\n",
      "   macro avg       0.67      0.56      0.57     20000\n",
      "weighted avg       0.77      0.81      0.77     20000\n",
      "\n",
      "0.8089\n"
     ]
    }
   ],
   "source": [
    "from sklearn.linear_model import LogisticRegression\n",
    "from sklearn.metrics import classification_report, confusion_matrix, accuracy_score\n",
    "\n",
    "lr = LogisticRegression()\n",
    "lr.fit(x_train,y_train)\n",
    "predictions = lr.predict(x_test)\n",
    "print(confusion_matrix(y_test, predictions))\n",
    "print(classification_report(y_test, predictions))\n",
    "print(accuracy_score(y_test, predictions))"
   ]
  }
 ],
 "metadata": {
  "kernelspec": {
   "display_name": "Python 3",
   "language": "python",
   "name": "python3"
  },
  "language_info": {
   "codemirror_mode": {
    "name": "ipython",
    "version": 3
   },
   "file_extension": ".py",
   "mimetype": "text/x-python",
   "name": "python",
   "nbconvert_exporter": "python",
   "pygments_lexer": "ipython3",
   "version": "3.8.8"
  }
 },
 "nbformat": 4,
 "nbformat_minor": 5
}
